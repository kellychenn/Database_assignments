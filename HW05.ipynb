{
 "cells": [
  {
   "cell_type": "markdown",
   "id": "1237ebb8",
   "metadata": {},
   "source": [
    "# QMSS G5072 Homework 5"
   ]
  },
  {
   "cell_type": "code",
   "execution_count": 2,
   "id": "fa497017",
   "metadata": {},
   "outputs": [],
   "source": [
    "import pandas as pd\n",
    "import numpy as np\n",
    "import seaborn as sns\n",
    "from matplotlib import pyplot as plt\n",
    "import re"
   ]
  },
  {
   "cell_type": "markdown",
   "id": "657c03ee",
   "metadata": {},
   "source": [
    "## a) Length of Narratives\n",
    "Read in the data. Find and display the longest and shortest description."
   ]
  },
  {
   "cell_type": "code",
   "execution_count": 3,
   "id": "d8be6a3b",
   "metadata": {},
   "outputs": [],
   "source": [
    "df = pd.read_csv('emergency.csv', names=['description'])"
   ]
  },
  {
   "cell_type": "code",
   "execution_count": 4,
   "id": "476b39a9",
   "metadata": {},
   "outputs": [
    {
     "data": {
      "text/html": [
       "<div>\n",
       "<style scoped>\n",
       "    .dataframe tbody tr th:only-of-type {\n",
       "        vertical-align: middle;\n",
       "    }\n",
       "\n",
       "    .dataframe tbody tr th {\n",
       "        vertical-align: top;\n",
       "    }\n",
       "\n",
       "    .dataframe thead th {\n",
       "        text-align: right;\n",
       "    }\n",
       "</style>\n",
       "<table border=\"1\" class=\"dataframe\">\n",
       "  <thead>\n",
       "    <tr style=\"text-align: right;\">\n",
       "      <th></th>\n",
       "      <th>description</th>\n",
       "    </tr>\n",
       "  </thead>\n",
       "  <tbody>\n",
       "    <tr>\n",
       "      <th>109</th>\n",
       "      <td>40YOM-C/O FOOT/HEEL PAIN RUNNIJNG BACKWARDS FE...</td>\n",
       "    </tr>\n",
       "    <tr>\n",
       "      <th>511</th>\n",
       "      <td>19MOWF  PARENTS HOLDING PT.  DAD STATES SHE WA...</td>\n",
       "    </tr>\n",
       "    <tr>\n",
       "      <th>630</th>\n",
       "      <td>44YOF  PT HAVING SEVERE R ARM PAIN THAT IS RAD...</td>\n",
       "    </tr>\n",
       "    <tr>\n",
       "      <th>920</th>\n",
       "      <td>57 YO F WAS POURING KEROSENE OVER AN OPEN FLAM...</td>\n",
       "    </tr>\n",
       "    <tr>\n",
       "      <th>1111</th>\n",
       "      <td>13YOM DID OUTDOOR WORKOUT X1 1/2 HRS, DEVELOEP...</td>\n",
       "    </tr>\n",
       "    <tr>\n",
       "      <th>...</th>\n",
       "      <td>...</td>\n",
       "    </tr>\n",
       "    <tr>\n",
       "      <th>9370</th>\n",
       "      <td>20 YO M, RUNNING FROM POLICE AFTER AN ALLEGED ...</td>\n",
       "    </tr>\n",
       "    <tr>\n",
       "      <th>9666</th>\n",
       "      <td>22YOM WAS LIGHTING PROPANE PIZZA OVEN ON FRI. ...</td>\n",
       "    </tr>\n",
       "    <tr>\n",
       "      <th>9670</th>\n",
       "      <td>45YOWM  TONIGHT PT WAS TRYING TO MOVE HIS FATH...</td>\n",
       "    </tr>\n",
       "    <tr>\n",
       "      <th>9749</th>\n",
       "      <td>PT.INJ.NOSE,HAND,WRIST,ELBOW WHEN RIDING BIKE ...</td>\n",
       "    </tr>\n",
       "    <tr>\n",
       "      <th>9853</th>\n",
       "      <td>15YF ON BUS TO SOCCER GAME&amp;NOTICED \"FUNNY SMEL...</td>\n",
       "    </tr>\n",
       "  </tbody>\n",
       "</table>\n",
       "<p>66 rows × 1 columns</p>\n",
       "</div>"
      ],
      "text/plain": [
       "                                            description\n",
       "109   40YOM-C/O FOOT/HEEL PAIN RUNNIJNG BACKWARDS FE...\n",
       "511   19MOWF  PARENTS HOLDING PT.  DAD STATES SHE WA...\n",
       "630   44YOF  PT HAVING SEVERE R ARM PAIN THAT IS RAD...\n",
       "920   57 YO F WAS POURING KEROSENE OVER AN OPEN FLAM...\n",
       "1111  13YOM DID OUTDOOR WORKOUT X1 1/2 HRS, DEVELOEP...\n",
       "...                                                 ...\n",
       "9370  20 YO M, RUNNING FROM POLICE AFTER AN ALLEGED ...\n",
       "9666  22YOM WAS LIGHTING PROPANE PIZZA OVEN ON FRI. ...\n",
       "9670  45YOWM  TONIGHT PT WAS TRYING TO MOVE HIS FATH...\n",
       "9749  PT.INJ.NOSE,HAND,WRIST,ELBOW WHEN RIDING BIKE ...\n",
       "9853  15YF ON BUS TO SOCCER GAME&NOTICED \"FUNNY SMEL...\n",
       "\n",
       "[66 rows x 1 columns]"
      ]
     },
     "execution_count": 4,
     "metadata": {},
     "output_type": "execute_result"
    }
   ],
   "source": [
    "#longest description\n",
    "lengths = df['description'].str.len()\n",
    "argmax = np.where(lengths == lengths.max())[0]\n",
    "df.iloc[argmax]"
   ]
  },
  {
   "cell_type": "code",
   "execution_count": 5,
   "id": "37642177",
   "metadata": {},
   "outputs": [
    {
     "data": {
      "text/html": [
       "<div>\n",
       "<style scoped>\n",
       "    .dataframe tbody tr th:only-of-type {\n",
       "        vertical-align: middle;\n",
       "    }\n",
       "\n",
       "    .dataframe tbody tr th {\n",
       "        vertical-align: top;\n",
       "    }\n",
       "\n",
       "    .dataframe thead th {\n",
       "        text-align: right;\n",
       "    }\n",
       "</style>\n",
       "<table border=\"1\" class=\"dataframe\">\n",
       "  <thead>\n",
       "    <tr style=\"text-align: right;\">\n",
       "      <th></th>\n",
       "      <th>description</th>\n",
       "    </tr>\n",
       "  </thead>\n",
       "  <tbody>\n",
       "    <tr>\n",
       "      <th>7127</th>\n",
       "      <td>ABR HIP ON FLOOR</td>\n",
       "    </tr>\n",
       "    <tr>\n",
       "      <th>7731</th>\n",
       "      <td>INGESTION OF ***</td>\n",
       "    </tr>\n",
       "  </tbody>\n",
       "</table>\n",
       "</div>"
      ],
      "text/plain": [
       "            description\n",
       "7127  ABR HIP ON FLOOR \n",
       "7731  INGESTION OF *** "
      ]
     },
     "execution_count": 5,
     "metadata": {},
     "output_type": "execute_result"
    }
   ],
   "source": [
    "#shortest description\n",
    "argmin = np.where(lengths == lengths.min())[0]\n",
    "df.iloc[argmin]"
   ]
  },
  {
   "cell_type": "markdown",
   "id": "2dd08a58",
   "metadata": {},
   "source": [
    "## b) Fractures\n",
    "Find all narratives related to \"fractures\". Try to include singular/plural/verb forms in your search. Also, FX is the medical abbreviation for fracture, so include that as well. How many fracture narratives can you find?"
   ]
  },
  {
   "cell_type": "markdown",
   "id": "16c92bd7",
   "metadata": {},
   "source": [
    "Fractures, Fractured, Fracturing, Fracturable all have fractur inside it, so no need to write out them."
   ]
  },
  {
   "cell_type": "code",
   "execution_count": 6,
   "id": "cc661e4c",
   "metadata": {},
   "outputs": [],
   "source": [
    "fracture_df = df[(df['description'].str.contains('FRACTUR'))| (df['description'].str.contains('FX'))]"
   ]
  },
  {
   "cell_type": "code",
   "execution_count": 7,
   "id": "d6e449cd",
   "metadata": {},
   "outputs": [
    {
     "data": {
      "text/plain": [
       "1499"
      ]
     },
     "execution_count": 7,
     "metadata": {},
     "output_type": "execute_result"
    }
   ],
   "source": [
    "fracture_df.shape[0]"
   ]
  },
  {
   "cell_type": "markdown",
   "id": "5d42e8be",
   "metadata": {},
   "source": [
    "## c) Body Parts\n",
    "Among the fracture narratives, try to identify the body parts that are fractured (Note: Don't go overboard. A selection of parts is sufficient.). Make a histogram of fractured body parts (but make sure plural and singular forms are combined.)"
   ]
  },
  {
   "cell_type": "code",
   "execution_count": 8,
   "id": "9b862f48",
   "metadata": {},
   "outputs": [],
   "source": [
    "dic = {}\n",
    "body_dic = {}\n",
    "lst = []\n",
    "#Get the words before and after fracture\n",
    "for i in fracture_df['description']:\n",
    "    lst.append(re.search(r'(?:\\S+\\s)?\\S*(FRACTUR|FX)\\S*(?:\\s\\S+)?', i).group())\n",
    "for i in lst:\n",
    "    for j in i.split():\n",
    "        if (j or j[:-1] or j[:-2]) in dic.keys():\n",
    "            dic[j] += 1\n",
    "        else:\n",
    "            dic[j] = 1\n",
    "#Pick the body parts that appears more than 10 times\n",
    "for i in dic.keys():\n",
    "    if (i != 'FRACTURED') and (i != 'FRACTURE') and (i != 'FX') and (i != 'FRACTURING') and (i != 'FXS'):\n",
    "        if dic.get(i) > 10:\n",
    "            body_dic[i] = dic.get(i)"
   ]
  },
  {
   "cell_type": "code",
   "execution_count": 9,
   "id": "95875983",
   "metadata": {},
   "outputs": [
    {
     "name": "stdout",
     "output_type": "stream",
     "text": [
      "dict_keys(['SKULL', 'FINGER', 'DX:', 'RADIUS', 'ANKLE', 'DX', 'DISTAL', 'FX.', 'FIBULA', 'FELL', 'FOREARM', 'COMPRESSION', 'CLOSED', 'OF', 'ELBOW', 'R', 'BONE', 'WITH', 'TO', 'SHOULDER', 'FX,', 'HIP', 'CLAVICLE', 'RIB', 'FEMUR', 'AND', 'L', 'ARM', 'WRIST', 'YOM', 'TIBIA', 'HUMERUS', 'TOE', 'RT', 'FOOT', 'ULNA', 'FRACTURE.', '>>FX', 'DX.', 'LT', 'A', 'HAND', 'LOWER', 'RIGHT', 'FLOOR', 'LEFT', 'LEG', 'NASAL', 'THUMB'])\n"
     ]
    }
   ],
   "source": [
    "#Drop the keys that are not body parts\n",
    "print(body_dic.keys())\n",
    "del body_dic['DX:']\n",
    "del body_dic['DX']\n",
    "del body_dic['DISTAL']\n",
    "del body_dic['FX.']\n",
    "del body_dic['FELL']\n",
    "del body_dic['COMPRESSION']\n",
    "del body_dic['CLOSED']\n",
    "del body_dic['OF']\n",
    "del body_dic['R']\n",
    "del body_dic['WITH']\n",
    "del body_dic['TO']\n",
    "del body_dic['FX,']\n",
    "del body_dic['AND']\n",
    "del body_dic['L']\n",
    "del body_dic['YOM']\n",
    "del body_dic['RT']\n",
    "del body_dic['FRACTURE.']\n",
    "del body_dic['>>FX']\n",
    "del body_dic['DX.']\n",
    "del body_dic['LT']\n",
    "del body_dic['A']\n",
    "del body_dic['LOWER']\n",
    "del body_dic['RIGHT']\n",
    "del body_dic['FLOOR']\n",
    "del body_dic['LEFT']"
   ]
  },
  {
   "cell_type": "code",
   "execution_count": 24,
   "id": "946fdaac",
   "metadata": {},
   "outputs": [
    {
     "data": {
      "text/plain": [
       "Text(0.5, 0, 'Body Parts')"
      ]
     },
     "execution_count": 24,
     "metadata": {},
     "output_type": "execute_result"
    },
    {
     "data": {
      "image/png": "[encoded data removed]",
      "text/plain": [
       "<Figure size 640x480 with 1 Axes>"
      ]
     },
     "metadata": {},
     "output_type": "display_data"
    }
   ],
   "source": [
    "sorted_body_dic = dict(sorted(body_dic.items(), key=lambda item: item[1]))\n",
    "plt.bar(sorted_body_dic.keys(), sorted_body_dic.values())\n",
    "plt.xticks(rotation='vertical')\n",
    "plt.ylabel('Counts')\n",
    "plt.xlabel('Body Parts')"
   ]
  },
  {
   "cell_type": "code",
   "execution_count": 25,
   "id": "87c4d6c4",
   "metadata": {},
   "outputs": [
    {
     "data": {
      "text/html": [
       "<div>\n",
       "<style scoped>\n",
       "    .dataframe tbody tr th:only-of-type {\n",
       "        vertical-align: middle;\n",
       "    }\n",
       "\n",
       "    .dataframe tbody tr th {\n",
       "        vertical-align: top;\n",
       "    }\n",
       "\n",
       "    .dataframe thead th {\n",
       "        text-align: right;\n",
       "    }\n",
       "</style>\n",
       "<table border=\"1\" class=\"dataframe\">\n",
       "  <thead>\n",
       "    <tr style=\"text-align: right;\">\n",
       "      <th></th>\n",
       "      <th>description</th>\n",
       "    </tr>\n",
       "  </thead>\n",
       "  <tbody>\n",
       "    <tr>\n",
       "      <th>258</th>\n",
       "      <td>38 YO F STRUCK LEG AGAINST MAILBOX FX TIBIA</td>\n",
       "    </tr>\n",
       "    <tr>\n",
       "      <th>504</th>\n",
       "      <td>PT SLIPPED OFF PORCH AND LANDED ON LT LEG DX: ...</td>\n",
       "    </tr>\n",
       "    <tr>\n",
       "      <th>511</th>\n",
       "      <td>19MOWF  PARENTS HOLDING PT.  DAD STATES SHE WA...</td>\n",
       "    </tr>\n",
       "    <tr>\n",
       "      <th>581</th>\n",
       "      <td>8 MONTH M FX HIS LOWER LEG WHEN HE FELL OUT OF...</td>\n",
       "    </tr>\n",
       "    <tr>\n",
       "      <th>589</th>\n",
       "      <td>12 YR M FELL WHEN ROLLERSKATING;DX FRACTURED L...</td>\n",
       "    </tr>\n",
       "    <tr>\n",
       "      <th>...</th>\n",
       "      <td>...</td>\n",
       "    </tr>\n",
       "    <tr>\n",
       "      <th>9338</th>\n",
       "      <td>19YOF FELL TWISTED LEG PLAYING SOCCER DX: LOWE...</td>\n",
       "    </tr>\n",
       "    <tr>\n",
       "      <th>9660</th>\n",
       "      <td>6 YO M FX UPPER LEG WHEN FLOORING MATERIAL FEL...</td>\n",
       "    </tr>\n",
       "    <tr>\n",
       "      <th>9805</th>\n",
       "      <td>3YOF LEG PAIN AFTER JUMPING ON A TRAMPOLINE WI...</td>\n",
       "    </tr>\n",
       "    <tr>\n",
       "      <th>9877</th>\n",
       "      <td>51YOM FRACTURED RADIUS ABRASION TO LEG FELL OF...</td>\n",
       "    </tr>\n",
       "    <tr>\n",
       "      <th>9922</th>\n",
       "      <td>46 YOM BICYCLIST STRUCK BY A CAR. DX LEG FX</td>\n",
       "    </tr>\n",
       "  </tbody>\n",
       "</table>\n",
       "<p>65 rows × 1 columns</p>\n",
       "</div>"
      ],
      "text/plain": [
       "                                            description\n",
       "258         38 YO F STRUCK LEG AGAINST MAILBOX FX TIBIA\n",
       "504   PT SLIPPED OFF PORCH AND LANDED ON LT LEG DX: ...\n",
       "511   19MOWF  PARENTS HOLDING PT.  DAD STATES SHE WA...\n",
       "581   8 MONTH M FX HIS LOWER LEG WHEN HE FELL OUT OF...\n",
       "589   12 YR M FELL WHEN ROLLERSKATING;DX FRACTURED L...\n",
       "...                                                 ...\n",
       "9338  19YOF FELL TWISTED LEG PLAYING SOCCER DX: LOWE...\n",
       "9660  6 YO M FX UPPER LEG WHEN FLOORING MATERIAL FEL...\n",
       "9805  3YOF LEG PAIN AFTER JUMPING ON A TRAMPOLINE WI...\n",
       "9877  51YOM FRACTURED RADIUS ABRASION TO LEG FELL OF...\n",
       "9922       46 YOM BICYCLIST STRUCK BY A CAR. DX LEG FX \n",
       "\n",
       "[65 rows x 1 columns]"
      ]
     },
     "execution_count": 25,
     "metadata": {},
     "output_type": "execute_result"
    }
   ],
   "source": [
    "fracture_df[fracture_df['description'].str.contains('LEG')]"
   ]
  },
  {
   "cell_type": "markdown",
   "id": "77309046",
   "metadata": {},
   "source": [
    "## d) Age and Gender\n",
    "Let's try to extract age and gender. In a number of narratives you may have noticed a pattern:\n",
    "\n",
    "\"75 YOM, FELL DOWN STAIRS, FRACTURE LEG\": A 75 year old male. \\\n",
    "\"21MOF FINGER SHUT IN WINDOW AT HOME;NAILBED INJURY: A 21 month-old female child. \\\n",
    "\"DX:AVULSION OF SKIN-50YOF-CUT THUMB WITH SCISSORS TONIGHT-OPENING A BOX\": A 50 year old female. \\\n",
    "\"LEFT ELBOW CONTUSION,RT SHIN LAC.PT WAS ICE SKATING AND FELL.\": No information about age or gender. \\\n",
    "You are generally looking for a pattern with a number (age), something to indicate the units, e.g. YO or YR for years old, or MO for months old, and a character that identifies the gender. So, I suggest to think of a pattern that combines these three parts.\n",
    "\n",
    "Create variables for age and gender (make sure to convert months to years when necessary). How many men and women are in the data? Provide a graphical representation of the number of injuries (y-axis) vs age / age group (x-axis) disaggregated by gender."
   ]
  },
  {
   "cell_type": "code",
   "execution_count": 26,
   "id": "492e802b",
   "metadata": {},
   "outputs": [],
   "source": [
    "age_sex_list = [re.search(r'(\\d+)\\s*(YO|YR|MO)\\s*(M|F)', i).group() for i in df['description'] \\\n",
    "                if re.search(r'\\d+\\s*(YO|YR|MO)\\s*(M|F)', i) != None]\n",
    "age_list = [re.search(r'(\\d+)\\s*(YO|YR|MO)\\s*(M|F)', i).group(1) for i in df['description'] \\\n",
    "                if re.search(r'\\d+\\s*(YO|YR|MO)\\s*(M|F)', i) != None]\n",
    "ym_list = [re.search(r'(\\d+)\\s*(YO|YR|MO)\\s*(M|F)', i).group(2) for i in df['description'] \\\n",
    "                if re.search(r'\\d+\\s*(YO|YR|MO)\\s*(M|F)', i) != None]\n",
    "sex_list = [re.search(r'(\\d+)\\s*(YO|YR|MO)\\s*(M|F)', i).group(3) for i in df['description'] \\\n",
    "                if re.search(r'\\d+\\s*(YO|YR|MO)\\s*(M|F)', i) != None]"
   ]
  },
  {
   "cell_type": "code",
   "execution_count": 27,
   "id": "fca69846",
   "metadata": {},
   "outputs": [],
   "source": [
    "#Generate female and male age list\n",
    "female_age_list = []\n",
    "male_age_list = []\n",
    "for i in range(len(ym_list)):\n",
    "    if sex_list[i] == 'F':\n",
    "        if ym_list[i] == 'MO':\n",
    "            female_age_list.append(int(age_list[i]) / 12)\n",
    "        else:\n",
    "            female_age_list.append(int(age_list[i]))\n",
    "    elif sex_list[i] == 'M':\n",
    "        if ym_list[i] == 'MO':\n",
    "            male_age_list.append(int(age_list[i]) / 12)\n",
    "        else:\n",
    "            male_age_list.append(int(age_list[i]))"
   ]
  },
  {
   "cell_type": "code",
   "execution_count": 28,
   "id": "c0016fa3",
   "metadata": {},
   "outputs": [
    {
     "name": "stdout",
     "output_type": "stream",
     "text": [
      "There are 3198 female in the data.\n",
      "There are 4145 male in the data.\n"
     ]
    }
   ],
   "source": [
    "print('There are ' +str(len(female_age_list)) + ' female in the data.')\n",
    "print('There are ' +str(len(male_age_list)) + ' male in the data.')"
   ]
  },
  {
   "cell_type": "code",
   "execution_count": 29,
   "id": "df930a9c",
   "metadata": {},
   "outputs": [
    {
     "data": {
      "text/plain": [
       "<AxesSubplot:xlabel='Sex'>"
      ]
     },
     "execution_count": 29,
     "metadata": {},
     "output_type": "execute_result"
    },
    {
     "data": {
      "image/png": "[encoded data removed]",
      "text/plain": [
       "<Figure size 640x480 with 1 Axes>"
      ]
     },
     "metadata": {},
     "output_type": "display_data"
    }
   ],
   "source": [
    "#Graphical representation of the number of injuries (y-axis) vs age / age group (x-axis) disaggregated by gender.\n",
    "female_df = pd.DataFrame(female_age_list, columns = ['Age'])\n",
    "female_df['Sex'] = 'Female'\n",
    "f_age_group = []\n",
    "#Add female age chunk to dataframe\n",
    "for i in female_df['Age']:\n",
    "    if i <= 10:\n",
    "        f_age_group.append('0-10')\n",
    "    elif i <= 20:\n",
    "        f_age_group.append('10-20')\n",
    "    elif i <= 30:\n",
    "        f_age_group.append('20-30')\n",
    "    elif i <= 40:\n",
    "        f_age_group.append('30-40')\n",
    "    elif i <= 50:\n",
    "        f_age_group.append('40-50')\n",
    "    elif i <= 60:\n",
    "        f_age_group.append('50-60')\n",
    "    else:\n",
    "        f_age_group.append('Above 60')\n",
    "female_df['Age Group'] = f_age_group\n",
    "\n",
    "male_df = pd.DataFrame(male_age_list, columns = ['Age'])\n",
    "male_df['Sex'] = 'Male'\n",
    "m_age_group = []\n",
    "#Add male age chunk to dataframe\n",
    "for i in male_df['Age']:\n",
    "    if i <= 10:\n",
    "        m_age_group.append('0-10')\n",
    "    elif i <= 20:\n",
    "        m_age_group.append('10-20')\n",
    "    elif i <= 30:\n",
    "        m_age_group.append('20-30')\n",
    "    elif i <= 40:\n",
    "        m_age_group.append('30-40')\n",
    "    elif i <= 50:\n",
    "        m_age_group.append('40-50')\n",
    "    elif i <= 60:\n",
    "        m_age_group.append('50-60')\n",
    "    else:\n",
    "        m_age_group.append('Above 60')\n",
    "male_df['Age Group'] = m_age_group\n",
    "all_sex_df = pd.concat([female_df, male_df], ignore_index = True)\n",
    "CrosstabResult=pd.crosstab(index=all_sex_df['Sex'],columns=all_sex_df['Age Group'])\n",
    "CrosstabResult.plot.bar()"
   ]
  },
  {
   "cell_type": "markdown",
   "id": "49ab75d7",
   "metadata": {},
   "source": [
    "## Optional (Bonus): Regex Crossword"
   ]
  },
  {
   "cell_type": "markdown",
   "id": "7aee1926",
   "metadata": {},
   "source": [
    "## Let's have a bit of fun with some regex crossword puzzle.\n",
    "\n",
    "(A) Here is a Regex crossword. The clues in the rows and columns provide you with a way to fill the 9 boxes with individual letters."
   ]
  },
  {
   "cell_type": "markdown",
   "id": "5e7eb04c",
   "metadata": {},
   "source": [
    "1 is D \\\n",
    "2 is O \\\n",
    "3 is N \\\n",
    "4 is T \\\n",
    "5 is P \\\n",
    "6 is A \\\n",
    "7 is N \\\n",
    "8 is I \\\n",
    "9 is C\n",
    "    "
   ]
  },
  {
   "cell_type": "code",
   "execution_count": null,
   "id": "c032926d",
   "metadata": {},
   "outputs": [],
   "source": []
  }
 ],
 "metadata": {
  "kernelspec": {
   "display_name": "Python 3 (ipykernel)",
   "language": "python",
   "name": "python3"
  },
  "language_info": {
   "codemirror_mode": {
    "name": "ipython",
    "version": 3
   },
   "file_extension": ".py",
   "mimetype": "text/x-python",
   "name": "python",
   "nbconvert_exporter": "python",
   "pygments_lexer": "ipython3",
   "version": "3.8.5"
  }
 },
 "nbformat": 4,
 "nbformat_minor": 5
}
